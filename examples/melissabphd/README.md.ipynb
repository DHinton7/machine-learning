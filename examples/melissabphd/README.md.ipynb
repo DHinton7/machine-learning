{
 "cells": [
  {
   "cell_type": "markdown",
   "metadata": {},
   "source": [
    "# Predicting Likelihood of Drug Misuse\n",
    "Special project for the Certificate of Data Science at Georgetown University School of Continuing Studies, Cohort 11\n",
    "\n",
    "### Project Overview\n",
    "\n",
    "Purpose: To predict whether someone is likely to misuse drugs based on personality factors and their use of legal substances such as caffeine and alcohol\n",
    "\n",
    "Project Author: Melissa Burn, GU Data Science Certificate Cohort 11\n",
    "\n",
    "Release Date: 8 July 2018\n",
    "\n",
    "Methodology: This Jupyter Notebook ingests data from the UCI ML dataset repository, evaluates the data in hand, wrangles it to suit the project and to fit Scikit-Learn classification models, tests three different algorithms with some visualization of the results, and chooses the model that seems to give the best results.\n",
    "\n",
    "Required Input: \n",
    "\n",
    "Predictive Output: \n",
    "\n",
    "Intended Users: The curious and casual\n",
    "\n",
    "### Training Data Source\n",
    "\n",
    "The training dataset comes from a 2015 UK study examining the relationship between demographic and personality factors, such as age when dropping out of school, extraversion and impulsivity, and use of recreational drugs, legal or illegal. The study dataset includes 1885 instances and 32 features.\n",
    "\n",
    "### UCI Big 5 Personality and Drug Dataset\n",
    "\n",
    "Downloaded from the UCI Machine Learning Repository in June 2018. The dataset is as follows:\n",
    "\n",
    "- Data Set: Multivariate\n",
    "- Attribute: Real\n",
    "- Tasks: Classification\n",
    "- Instances: 1885\n",
    "- Attributes: 32\n",
    "- Area: Social\n",
    "- Date Donated: 2016-10-17\n",
    "\n",
    "### Acknowledgements\n",
    "\n",
    "In creating this Notebook, I made heavy use of the XBUS-505 Wheat Classification and Census Notebooks provided by Benjamin Bengfort, several Notebooks for XBUS-506 provided by Dr. Rebecca Bilbro, contributions from my Capstone team mate Mike Iapalucci, and code borrowed from jhboyle's '1984_Congressional_Voting_Classification' (submitted as an example in a previous cohort).\n",
    "\n",
    "### Citation\n",
    "\n",
    "E. Fehrman, A. K. Muhammad, E. M. Mirkes, V. Egan and A. N. Gorban, \"The Five Factor Model of personality and evaluation of drug consumption risk.,\" arXiv [https://arxiv.org/abs/1506.06297], 2015\n"
   ]
  },
  {
   "cell_type": "code",
   "execution_count": null,
   "metadata": {},
   "outputs": [],
   "source": []
  }
 ],
 "metadata": {
  "kernelspec": {
   "display_name": "Python 3",
   "language": "python",
   "name": "python3"
  },
  "language_info": {
   "codemirror_mode": {
    "name": "ipython",
    "version": 3
   },
   "file_extension": ".py",
   "mimetype": "text/x-python",
   "name": "python",
   "nbconvert_exporter": "python",
   "pygments_lexer": "ipython3",
   "version": "3.6.4"
  }
 },
 "nbformat": 4,
 "nbformat_minor": 2
}
